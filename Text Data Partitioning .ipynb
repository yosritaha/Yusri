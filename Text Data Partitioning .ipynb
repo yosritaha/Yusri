{
 "cells": [
  {
   "cell_type": "code",
   "execution_count": 40,
   "metadata": {},
   "outputs": [],
   "source": [
    "import re   \n",
    "import nltk\n",
    "import random\n",
    "import pandas as pd"
   ]
  },
  {
   "cell_type": "markdown",
   "metadata": {},
   "source": [
    "## Import books"
   ]
  },
  {
   "cell_type": "code",
   "execution_count": 112,
   "metadata": {},
   "outputs": [
    {
     "name": "stderr",
     "output_type": "stream",
     "text": [
      "[nltk_data] Downloading package gutenberg to\n",
      "[nltk_data]     C:\\Users\\yusri\\AppData\\Roaming\\nltk_data...\n",
      "[nltk_data]   Package gutenberg is already up-to-date!\n"
     ]
    }
   ],
   "source": [
    "# -*- coding: UTF-8 -*-\n",
    "\n",
    "\n",
    "#from collections import Counter\n",
    "nltk.download('gutenberg')\n",
    "book1 = nltk.corpus.gutenberg.raw('chesterton-thursday.txt')\n",
    "book2 = nltk.corpus.gutenberg.raw('carroll-alice.txt')\n",
    "book3 = nltk.corpus.gutenberg.raw('whitman-leaves.txt')\n",
    "book4 = nltk.corpus.gutenberg.raw('milton-paradise.txt')\n",
    "book5 = nltk.corpus.gutenberg.raw('bryant-stories.txt')"
   ]
  },
  {
   "cell_type": "code",
   "execution_count": null,
   "metadata": {},
   "outputs": [],
   "source": []
  },
  {
   "cell_type": "markdown",
   "metadata": {},
   "source": [
    "## Tokenization"
   ]
  },
  {
   "cell_type": "code",
   "execution_count": 113,
   "metadata": {},
   "outputs": [
    {
     "name": "stderr",
     "output_type": "stream",
     "text": [
      "[nltk_data] Downloading package punkt to\n",
      "[nltk_data]     C:\\Users\\yusri\\AppData\\Roaming\\nltk_data...\n",
      "[nltk_data]   Package punkt is already up-to-date!\n"
     ]
    },
    {
     "name": "stdout",
     "output_type": "stream",
     "text": [
      "Then number of sentances in this book:1625\n",
      "\n",
      "Samples of sentances:\n",
      " [\"[Alice's Adventures in Wonderland by Lewis Carroll 1865]\\n\\nCHAPTER I.\", \"Down the Rabbit-Hole\\n\\nAlice was beginning to get very tired of sitting by her sister on the\\nbank, and of having nothing to do: once or twice she had peeped into the\\nbook her sister was reading, but it had no pictures or conversations in\\nit, 'and what is the use of a book,' thought Alice 'without pictures or\\nconversation?'\", 'So she was considering in her own mind (as well as she could, for the\\nhot day made her feel very sleepy and stupid), whether the pleasure\\nof making a daisy-chain would be worth the trouble of getting up and\\npicking the daisies, when suddenly a White Rabbit with pink eyes ran\\nclose by her.', \"There was nothing so VERY remarkable in that; nor did Alice think it so\\nVERY much out of the way to hear the Rabbit say to itself, 'Oh dear!\", 'Oh dear!', \"I shall be late!'\", '(when she thought it over afterwards, it\\noccurred to her that she ought to have wondered at this, but at the time\\nit all seemed quite natural); but when the Rabbit actually TOOK A WATCH\\nOUT OF ITS WAISTCOAT-POCKET, and looked at it, and then hurried on,\\nAlice started to her feet, for it flashed across her mind that she had\\nnever before seen a rabbit with either a waistcoat-pocket, or a watch\\nto take out of it, and burning with curiosity, she ran across the field\\nafter it, and fortunately was just in time to see it pop down a large\\nrabbit-hole under the hedge.', 'In another moment down went Alice after it, never once considering how\\nin the world she was to get out again.', 'The rabbit-hole went straight on like a tunnel for some way, and then\\ndipped suddenly down, so suddenly that Alice had not a moment to think\\nabout stopping herself before she found herself falling down a very deep\\nwell.', 'Either the well was very deep, or she fell very slowly, for she had\\nplenty of time as she went down to look about her and to wonder what was\\ngoing to happen next.'] \n",
      "\n",
      "Then number of words in this book:33493\n",
      "\n",
      "Samples of words:\n",
      " ['[', 'Alice', \"'s\", 'Adventures', 'in', 'Wonderland', 'by', 'Lewis', 'Carroll', '1865', ']', 'CHAPTER', 'I', '.', 'Down', 'the', 'Rabbit-Hole', 'Alice', 'was', 'beginning', 'to', 'get', 'very', 'tired', 'of', 'sitting', 'by', 'her', 'sister', 'on', 'the', 'bank', ',', 'and', 'of', 'having', 'nothing', 'to', 'do', ':', 'once', 'or', 'twice', 'she', 'had', 'peeped', 'into', 'the', 'book', 'her', 'sister', 'was', 'reading', ',', 'but', 'it', 'had', 'no', 'pictures', 'or', 'conversations', 'in', 'it', ',', \"'and\", 'what', 'is', 'the', 'use', 'of', 'a', 'book', ',', \"'\", 'thought', 'Alice', \"'without\", 'pictures', 'or', 'conversation', '?', \"'\", 'So', 'she', 'was', 'considering', 'in', 'her', 'own', 'mind', '(', 'as', 'well', 'as', 'she', 'could', ',', 'for', 'the', 'hot', 'day', 'made', 'her', 'feel', 'very', 'sleepy', 'and', 'stupid', ')', ',', 'whether', 'the', 'pleasure', 'of', 'making', 'a', 'daisy-chain', 'would', 'be', 'worth', 'the', 'trouble', 'of', 'getting', 'up', 'and', 'picking', 'the', 'daisies', ',', 'when', 'suddenly', 'a', 'White', 'Rabbit', 'with', 'pink', 'eyes', 'ran', 'close', 'by', 'her', '.', 'There', 'was', 'nothing', 'so', 'VERY', 'remarkable', 'in', 'that', ';', 'nor', 'did', 'Alice', 'think', 'it', 'so', 'VERY', 'much', 'out', 'of', 'the', 'way', 'to', 'hear', 'the', 'Rabbit', 'say', 'to', 'itself', ',', \"'Oh\", 'dear', '!', 'Oh', 'dear', '!', 'I', 'shall', 'be', 'late', '!', \"'\", '(', 'when', 'she', 'thought', 'it', 'over', 'afterwards', ',', 'it', 'occurred', 'to', 'her', 'that', 'she', 'ought', 'to']\n"
     ]
    }
   ],
   "source": [
    "nltk.download('punkt')\n",
    "# Sentance Tokenization:\n",
    "tokenized_sents=nltk.sent_tokenize(book2)\n",
    "print('Then number of sentances in this book:{}\\n'.format(len(tokenized_sents)))\n",
    "print('Samples of sentances:\\n',tokenized_sents[:10],'\\n')\n",
    "\n",
    "# Word Tokenization:\n",
    "tokenized_word=nltk.word_tokenize(book2)\n",
    "print('Then number of words in this book:{}\\n'.format(len(tokenized_word)))\n",
    "print('Samples of words:\\n',tokenized_word[:200])"
   ]
  },
  {
   "cell_type": "markdown",
   "metadata": {},
   "source": [
    "# Labeling the chunks\n",
    "\n",
    "### Method 1"
   ]
  },
  {
   "cell_type": "code",
   "execution_count": 114,
   "metadata": {},
   "outputs": [
    {
     "name": "stdout",
     "output_type": "stream",
     "text": [
      "[(\"She felt that she was dozing\\noff, and had just begun to dream that she was walking hand in hand with\\nDinah, and saying to her very earnestly, 'Now, Dinah, tell me the truth:\\ndid you ever eat a bat?'when suddenly, thump!thump!down she came upon\\na heap of sticks and dry leaves, and the fall was over.Alice was not a bit hurt, and she jumped up on to her feet in a moment:\\nshe looked up, but it was all dark overhead; before her was another\\nlong passage, and the White Rabbit was still in sight, hurrying down it.\", 'chesterton')]\n",
      "325\n"
     ]
    }
   ],
   "source": [
    "chunks = \"\"\n",
    "labeled_chunks=[]\n",
    "for i, sent in enumerate(tokenized_sents):\n",
    "    chunks += sent\n",
    "    if (i+5)%(5)==0:\n",
    "        labeled_chunks.append([(chunks,'chesterton')])\n",
    "        chunks = \"\"\n",
    "print(labeled_chunks[10])\n",
    "print(len(labeled_chunks))"
   ]
  },
  {
   "cell_type": "markdown",
   "metadata": {},
   "source": [
    "### Method 2"
   ]
  },
  {
   "cell_type": "code",
   "execution_count": 115,
   "metadata": {},
   "outputs": [
    {
     "name": "stdout",
     "output_type": "stream",
     "text": [
      "[(\"[Alice's Adventures in Wonderland by Lewis Carroll 1865]\\n\\nCHAPTER I.Down the Rabbit-Hole\\n\\nAlice was beginning to get very tired of sitting by her sister on the\\nbank, and of having nothing to do: once or twice she had peeped into the\\nbook her sister was reading, but it had no pictures or conversations in\\nit, 'and what is the use of a book,' thought Alice 'without pictures or\\nconversation?'So she was considering in her own mind (as well as she could, for the\\nhot day made her feel very sleepy and stupid), whether the pleasure\\nof making a daisy-chain would be worth the trouble of getting up and\\npicking the daisies, when suddenly a White Rabbit with pink eyes ran\\nclose by her.There was nothing so VERY remarkable in that; nor did Alice think it so\\nVERY much out of the way to hear the Rabbit say to itself, 'Oh dear!\", 'chesterton')]\n",
      "407\n"
     ]
    }
   ],
   "source": [
    "labeled_chunks=[]\n",
    "for i in range(0,len(tokenized_sents),4):\n",
    "    text=''\n",
    "    chunk=text.join(tokenized_sents[i:4+i])\n",
    "    labeled_chunks.append([(chunk,'chesterton')])\n",
    "\n",
    "print(labeled_chunks[0])\n",
    "print(len(labeled_chunks))"
   ]
  },
  {
   "cell_type": "markdown",
   "metadata": {},
   "source": [
    "### Method 3"
   ]
  },
  {
   "cell_type": "code",
   "execution_count": 116,
   "metadata": {},
   "outputs": [
    {
     "name": "stdout",
     "output_type": "stream",
     "text": [
      "[(\"[Alice's Adventures in Wonderland by Lewis Carroll 1865] CHAPTER I. Down the Rabbit-Hole Alice was beginning to get very tired of sitting by her sister on the bank, and of having nothing to do: once or twice she had peeped into the book her sister was reading, but it had no pictures or conversations in it, 'and what is the use of a book,' thought Alice 'without pictures or conversation?' So she was considering in her own mind (as well as she could, for the hot day made her feel very sleepy and stupid), whether the pleasure of making a\", 'chesterton')]\n",
      "265\n"
     ]
    }
   ],
   "source": [
    "splits = book2.split()\n",
    "labeled_chunks=[]\n",
    "for i in range(0,len(splits),100):\n",
    "    labeled_chunks.append([(' '.join(splits[i:100+i]),'chesterton')])\n",
    "print(labeled_chunks[0])\n",
    "print(len(labeled_chunks))"
   ]
  },
  {
   "cell_type": "code",
   "execution_count": null,
   "metadata": {},
   "outputs": [],
   "source": []
  },
  {
   "cell_type": "code",
   "execution_count": 117,
   "metadata": {},
   "outputs": [],
   "source": [
    "import random\n",
    "random.seed(1)\n",
    "chunks=random.sample(labeled_chunks, 5)"
   ]
  },
  {
   "cell_type": "code",
   "execution_count": 118,
   "metadata": {},
   "outputs": [],
   "source": [
    "books={'a':chunks,'b':chunks,'c':chunks,'d':chunks,'e':chunks}\n",
    "df=pd.DataFrame(books)"
   ]
  },
  {
   "cell_type": "code",
   "execution_count": 119,
   "metadata": {},
   "outputs": [
    {
     "data": {
      "text/html": [
       "<div>\n",
       "<style scoped>\n",
       "    .dataframe tbody tr th:only-of-type {\n",
       "        vertical-align: middle;\n",
       "    }\n",
       "\n",
       "    .dataframe tbody tr th {\n",
       "        vertical-align: top;\n",
       "    }\n",
       "\n",
       "    .dataframe thead th {\n",
       "        text-align: right;\n",
       "    }\n",
       "</style>\n",
       "<table border=\"1\" class=\"dataframe\">\n",
       "  <thead>\n",
       "    <tr style=\"text-align: right;\">\n",
       "      <th></th>\n",
       "      <th>a</th>\n",
       "      <th>b</th>\n",
       "      <th>c</th>\n",
       "      <th>d</th>\n",
       "      <th>e</th>\n",
       "    </tr>\n",
       "  </thead>\n",
       "  <tbody>\n",
       "    <tr>\n",
       "      <th>0</th>\n",
       "      <td>[(of thing never happened, and now here I am i...</td>\n",
       "      <td>[(of thing never happened, and now here I am i...</td>\n",
       "      <td>[(of thing never happened, and now here I am i...</td>\n",
       "      <td>[(of thing never happened, and now here I am i...</td>\n",
       "      <td>[(of thing never happened, and now here I am i...</td>\n",
       "    </tr>\n",
       "    <tr>\n",
       "      <th>1</th>\n",
       "      <td>[(done that?' she thought. 'I must be growing ...</td>\n",
       "      <td>[(done that?' she thought. 'I must be growing ...</td>\n",
       "      <td>[(done that?' she thought. 'I must be growing ...</td>\n",
       "      <td>[(done that?' she thought. 'I must be growing ...</td>\n",
       "      <td>[(done that?' she thought. 'I must be growing ...</td>\n",
       "    </tr>\n",
       "    <tr>\n",
       "      <th>2</th>\n",
       "      <td>[(to-day?' 'I should like it very much,' said ...</td>\n",
       "      <td>[(to-day?' 'I should like it very much,' said ...</td>\n",
       "      <td>[(to-day?' 'I should like it very much,' said ...</td>\n",
       "      <td>[(to-day?' 'I should like it very much,' said ...</td>\n",
       "      <td>[(to-day?' 'I should like it very much,' said ...</td>\n",
       "    </tr>\n",
       "    <tr>\n",
       "      <th>3</th>\n",
       "      <td>[(a Little Bill It was the White Rabbit, trott...</td>\n",
       "      <td>[(a Little Bill It was the White Rabbit, trott...</td>\n",
       "      <td>[(a Little Bill It was the White Rabbit, trott...</td>\n",
       "      <td>[(a Little Bill It was the White Rabbit, trott...</td>\n",
       "      <td>[(a Little Bill It was the White Rabbit, trott...</td>\n",
       "    </tr>\n",
       "    <tr>\n",
       "      <th>4</th>\n",
       "      <td>[(you, Though they were mine before. If I or s...</td>\n",
       "      <td>[(you, Though they were mine before. If I or s...</td>\n",
       "      <td>[(you, Though they were mine before. If I or s...</td>\n",
       "      <td>[(you, Though they were mine before. If I or s...</td>\n",
       "      <td>[(you, Though they were mine before. If I or s...</td>\n",
       "    </tr>\n",
       "  </tbody>\n",
       "</table>\n",
       "</div>"
      ],
      "text/plain": [
       "                                                   a  \\\n",
       "0  [(of thing never happened, and now here I am i...   \n",
       "1  [(done that?' she thought. 'I must be growing ...   \n",
       "2  [(to-day?' 'I should like it very much,' said ...   \n",
       "3  [(a Little Bill It was the White Rabbit, trott...   \n",
       "4  [(you, Though they were mine before. If I or s...   \n",
       "\n",
       "                                                   b  \\\n",
       "0  [(of thing never happened, and now here I am i...   \n",
       "1  [(done that?' she thought. 'I must be growing ...   \n",
       "2  [(to-day?' 'I should like it very much,' said ...   \n",
       "3  [(a Little Bill It was the White Rabbit, trott...   \n",
       "4  [(you, Though they were mine before. If I or s...   \n",
       "\n",
       "                                                   c  \\\n",
       "0  [(of thing never happened, and now here I am i...   \n",
       "1  [(done that?' she thought. 'I must be growing ...   \n",
       "2  [(to-day?' 'I should like it very much,' said ...   \n",
       "3  [(a Little Bill It was the White Rabbit, trott...   \n",
       "4  [(you, Though they were mine before. If I or s...   \n",
       "\n",
       "                                                   d  \\\n",
       "0  [(of thing never happened, and now here I am i...   \n",
       "1  [(done that?' she thought. 'I must be growing ...   \n",
       "2  [(to-day?' 'I should like it very much,' said ...   \n",
       "3  [(a Little Bill It was the White Rabbit, trott...   \n",
       "4  [(you, Though they were mine before. If I or s...   \n",
       "\n",
       "                                                   e  \n",
       "0  [(of thing never happened, and now here I am i...  \n",
       "1  [(done that?' she thought. 'I must be growing ...  \n",
       "2  [(to-day?' 'I should like it very much,' said ...  \n",
       "3  [(a Little Bill It was the White Rabbit, trott...  \n",
       "4  [(you, Though they were mine before. If I or s...  "
      ]
     },
     "execution_count": 119,
     "metadata": {},
     "output_type": "execute_result"
    }
   ],
   "source": [
    "df"
   ]
  },
  {
   "cell_type": "code",
   "execution_count": 120,
   "metadata": {},
   "outputs": [],
   "source": [
    "def get_chunks(books):\n",
    "    chunk_books=[]\n",
    "    for book in books:\n",
    "        splits = book.split()\n",
    "        labeled_chunks=[]\n",
    "        for i in range(0,len(splits),100):\n",
    "            labeled_chunks.append([(' '.join(splits[i:100+i]),'chesterton')])\n",
    "        chunk_books.append(labeled_chunks)\n",
    "    return chunk_books"
   ]
  },
  {
   "cell_type": "code",
   "execution_count": 121,
   "metadata": {},
   "outputs": [],
   "source": [
    "books=[book1,book2,book3,book4,book5]\n",
    "chunk_books=get_chunks(books)\n"
   ]
  },
  {
   "cell_type": "code",
   "execution_count": 122,
   "metadata": {},
   "outputs": [
    {
     "data": {
      "text/plain": [
       "5"
      ]
     },
     "execution_count": 122,
     "metadata": {},
     "output_type": "execute_result"
    }
   ],
   "source": [
    "len(chunk_books)"
   ]
  },
  {
   "cell_type": "code",
   "execution_count": 123,
   "metadata": {},
   "outputs": [
    {
     "name": "stdout",
     "output_type": "stream",
     "text": [
      "length of book # 1= 580\n",
      "length of book # 2= 265\n",
      "length of book # 3= 1221\n",
      "length of book # 4= 797\n",
      "length of book # 5= 460\n"
     ]
    }
   ],
   "source": [
    "for i,book in enumerate(chunk_books):\n",
    "    print(\"length of book # {}= {}\".format(i+1,len(book)))\n"
   ]
  },
  {
   "cell_type": "code",
   "execution_count": 61,
   "metadata": {},
   "outputs": [],
   "source": [
    "\n"
   ]
  },
  {
   "cell_type": "code",
   "execution_count": 64,
   "metadata": {},
   "outputs": [],
   "source": [
    "#df=pd.DataFrame(bookks)"
   ]
  },
  {
   "cell_type": "code",
   "execution_count": null,
   "metadata": {},
   "outputs": [],
   "source": [
    "\n"
   ]
  },
  {
   "cell_type": "code",
   "execution_count": 124,
   "metadata": {},
   "outputs": [],
   "source": [
    "def get_random_chunks(chunk_books):\n",
    "    import random\n",
    "    random.seed(1)\n",
    "    random_chunks=[]\n",
    "    for book in chunk_books:\n",
    "        chunks=random.sample(book, 200)\n",
    "        random_chunks.append(chunks)\n",
    "    return random_chunks"
   ]
  },
  {
   "cell_type": "code",
   "execution_count": 125,
   "metadata": {},
   "outputs": [],
   "source": [
    "random_chunks=get_random_chunks(chunk_books)"
   ]
  },
  {
   "cell_type": "code",
   "execution_count": 126,
   "metadata": {},
   "outputs": [
    {
     "data": {
      "text/plain": [
       "200"
      ]
     },
     "execution_count": 126,
     "metadata": {},
     "output_type": "execute_result"
    }
   ],
   "source": [
    "len(random_chunks[4])"
   ]
  },
  {
   "cell_type": "code",
   "execution_count": 127,
   "metadata": {},
   "outputs": [],
   "source": [
    "bookks={}\n",
    "for i,book in  enumerate(random_chunks):\n",
    "    bookks[i]=book"
   ]
  },
  {
   "cell_type": "code",
   "execution_count": 147,
   "metadata": {},
   "outputs": [],
   "source": [
    "df=pd.DataFrame(bookks)"
   ]
  },
  {
   "cell_type": "code",
   "execution_count": 148,
   "metadata": {},
   "outputs": [
    {
     "data": {
      "text/html": [
       "<div>\n",
       "<style scoped>\n",
       "    .dataframe tbody tr th:only-of-type {\n",
       "        vertical-align: middle;\n",
       "    }\n",
       "\n",
       "    .dataframe tbody tr th {\n",
       "        vertical-align: top;\n",
       "    }\n",
       "\n",
       "    .dataframe thead th {\n",
       "        text-align: right;\n",
       "    }\n",
       "</style>\n",
       "<table border=\"1\" class=\"dataframe\">\n",
       "  <thead>\n",
       "    <tr style=\"text-align: right;\">\n",
       "      <th></th>\n",
       "      <th>0</th>\n",
       "      <th>1</th>\n",
       "      <th>2</th>\n",
       "      <th>3</th>\n",
       "      <th>4</th>\n",
       "    </tr>\n",
       "  </thead>\n",
       "  <tbody>\n",
       "    <tr>\n",
       "      <th>0</th>\n",
       "      <td>[(but rather of a dead daylight. Over the whol...</td>\n",
       "      <td>[(would be wasting our breath.\" \"I'll be judge...</td>\n",
       "      <td>[(America good or bad, Not to build for that w...</td>\n",
       "      <td>[(behold At my right hand; your head I him app...</td>\n",
       "      <td>[(a crab without looking first,--which you nev...</td>\n",
       "    </tr>\n",
       "    <tr>\n",
       "      <th>1</th>\n",
       "      <td>[(a matter of fact, everything is ready for me...</td>\n",
       "      <td>[(come here.' Alice didn't think that proved i...</td>\n",
       "      <td>[(of approaching cars, The slow march play'd a...</td>\n",
       "      <td>[(sentence pass On his transgression,--death d...</td>\n",
       "      <td>[(Tiger sprang, but the Brahmin spoke very qui...</td>\n",
       "    </tr>\n",
       "    <tr>\n",
       "      <th>2</th>\n",
       "      <td>[(\"What do you mean?\" asked Syme. \"Does he liv...</td>\n",
       "      <td>[(always get into her eyes--and still as she l...</td>\n",
       "      <td>[(and crowding to help them, My flesh and bloo...</td>\n",
       "      <td>[(He shall ascend The throne hereditary, and b...</td>\n",
       "      <td>[(took hold of the table with the Little Fir T...</td>\n",
       "    </tr>\n",
       "    <tr>\n",
       "      <th>3</th>\n",
       "      <td>[(book of sonnets that a crime will be committ...</td>\n",
       "      <td>[(got back to my right size: the next thing is...</td>\n",
       "      <td>[(your soft opera-music changed, and the drum ...</td>\n",
       "      <td>[(vain aims, inordinate desires, Blown up with...</td>\n",
       "      <td>[(garden.\" That very evening, Margery's father...</td>\n",
       "    </tr>\n",
       "    <tr>\n",
       "      <th>4</th>\n",
       "      <td>[(opened absently only to find it inscribed wi...</td>\n",
       "      <td>[(a pie--' [later editions continued as follow...</td>\n",
       "      <td>[(thee O soul, All senses, shows and objects, ...</td>\n",
       "      <td>[(lower world; to this obscure And wild? how s...</td>\n",
       "      <td>[(other end round my cow, and when I am ready ...</td>\n",
       "    </tr>\n",
       "    <tr>\n",
       "      <th>5</th>\n",
       "      <td>[(he was with us!\" \"The Colonel! Yes,\" cried B...</td>\n",
       "      <td>[(in sight, hurrying down it. There was not a ...</td>\n",
       "      <td>[(was wise also, He was six feet tall, he was ...</td>\n",
       "      <td>[(I behold this goodly frame, this world, Of H...</td>\n",
       "      <td>[(Hin Lived in her shnug ould house. An' out s...</td>\n",
       "    </tr>\n",
       "    <tr>\n",
       "      <th>6</th>\n",
       "      <td>[(dark room, who made you all policemen.\" With...</td>\n",
       "      <td>[(much of it in the air. Even the Duchess snee...</td>\n",
       "      <td>[(Have you reckon'd that the landscape took su...</td>\n",
       "      <td>[(his prey; Alone, for other creature in this ...</td>\n",
       "      <td>[(little Gingerbread Boy, \"I am a quarter gone...</td>\n",
       "    </tr>\n",
       "    <tr>\n",
       "      <th>7</th>\n",
       "      <td>[(the dark cloud of men had detached itself fr...</td>\n",
       "      <td>[(put it. She felt that she was dozing off, an...</td>\n",
       "      <td>[(ship itself, (see indeed these sails I sprea...</td>\n",
       "      <td>[(not feared then, nor obeyed: Your fear itsel...</td>\n",
       "      <td>[(there is another lion! And he is as much big...</td>\n",
       "    </tr>\n",
       "    <tr>\n",
       "      <th>8</th>\n",
       "      <td>[(away from the contemplation of the colourles...</td>\n",
       "      <td>[(and both creatures hid their faces in their ...</td>\n",
       "      <td>[(departing--of the growth of completer men th...</td>\n",
       "      <td>[(griding sword with discontinuous wound Passe...</td>\n",
       "      <td>[(at David, and said, \"Thou art not able to go...</td>\n",
       "    </tr>\n",
       "    <tr>\n",
       "      <th>9</th>\n",
       "      <td>[(us murderers; I go to earn it (loud and prol...</td>\n",
       "      <td>[(Bill's got the other--Bill! fetch it here, l...</td>\n",
       "      <td>[(work, not adoration merely; Thou knowest the...</td>\n",
       "      <td>[(sayest, Leads up to Heaven, is both the way ...</td>\n",
       "      <td>[(his head sank lower. But suddenly the music ...</td>\n",
       "    </tr>\n",
       "  </tbody>\n",
       "</table>\n",
       "</div>"
      ],
      "text/plain": [
       "                                                   0  \\\n",
       "0  [(but rather of a dead daylight. Over the whol...   \n",
       "1  [(a matter of fact, everything is ready for me...   \n",
       "2  [(\"What do you mean?\" asked Syme. \"Does he liv...   \n",
       "3  [(book of sonnets that a crime will be committ...   \n",
       "4  [(opened absently only to find it inscribed wi...   \n",
       "5  [(he was with us!\" \"The Colonel! Yes,\" cried B...   \n",
       "6  [(dark room, who made you all policemen.\" With...   \n",
       "7  [(the dark cloud of men had detached itself fr...   \n",
       "8  [(away from the contemplation of the colourles...   \n",
       "9  [(us murderers; I go to earn it (loud and prol...   \n",
       "\n",
       "                                                   1  \\\n",
       "0  [(would be wasting our breath.\" \"I'll be judge...   \n",
       "1  [(come here.' Alice didn't think that proved i...   \n",
       "2  [(always get into her eyes--and still as she l...   \n",
       "3  [(got back to my right size: the next thing is...   \n",
       "4  [(a pie--' [later editions continued as follow...   \n",
       "5  [(in sight, hurrying down it. There was not a ...   \n",
       "6  [(much of it in the air. Even the Duchess snee...   \n",
       "7  [(put it. She felt that she was dozing off, an...   \n",
       "8  [(and both creatures hid their faces in their ...   \n",
       "9  [(Bill's got the other--Bill! fetch it here, l...   \n",
       "\n",
       "                                                   2  \\\n",
       "0  [(America good or bad, Not to build for that w...   \n",
       "1  [(of approaching cars, The slow march play'd a...   \n",
       "2  [(and crowding to help them, My flesh and bloo...   \n",
       "3  [(your soft opera-music changed, and the drum ...   \n",
       "4  [(thee O soul, All senses, shows and objects, ...   \n",
       "5  [(was wise also, He was six feet tall, he was ...   \n",
       "6  [(Have you reckon'd that the landscape took su...   \n",
       "7  [(ship itself, (see indeed these sails I sprea...   \n",
       "8  [(departing--of the growth of completer men th...   \n",
       "9  [(work, not adoration merely; Thou knowest the...   \n",
       "\n",
       "                                                   3  \\\n",
       "0  [(behold At my right hand; your head I him app...   \n",
       "1  [(sentence pass On his transgression,--death d...   \n",
       "2  [(He shall ascend The throne hereditary, and b...   \n",
       "3  [(vain aims, inordinate desires, Blown up with...   \n",
       "4  [(lower world; to this obscure And wild? how s...   \n",
       "5  [(I behold this goodly frame, this world, Of H...   \n",
       "6  [(his prey; Alone, for other creature in this ...   \n",
       "7  [(not feared then, nor obeyed: Your fear itsel...   \n",
       "8  [(griding sword with discontinuous wound Passe...   \n",
       "9  [(sayest, Leads up to Heaven, is both the way ...   \n",
       "\n",
       "                                                   4  \n",
       "0  [(a crab without looking first,--which you nev...  \n",
       "1  [(Tiger sprang, but the Brahmin spoke very qui...  \n",
       "2  [(took hold of the table with the Little Fir T...  \n",
       "3  [(garden.\" That very evening, Margery's father...  \n",
       "4  [(other end round my cow, and when I am ready ...  \n",
       "5  [(Hin Lived in her shnug ould house. An' out s...  \n",
       "6  [(little Gingerbread Boy, \"I am a quarter gone...  \n",
       "7  [(there is another lion! And he is as much big...  \n",
       "8  [(at David, and said, \"Thou art not able to go...  \n",
       "9  [(his head sank lower. But suddenly the music ...  "
      ]
     },
     "execution_count": 148,
     "metadata": {},
     "output_type": "execute_result"
    }
   ],
   "source": [
    "df.head(10)"
   ]
  },
  {
   "cell_type": "code",
   "execution_count": 150,
   "metadata": {},
   "outputs": [
    {
     "data": {
      "text/html": [
       "<div>\n",
       "<style scoped>\n",
       "    .dataframe tbody tr th:only-of-type {\n",
       "        vertical-align: middle;\n",
       "    }\n",
       "\n",
       "    .dataframe tbody tr th {\n",
       "        vertical-align: top;\n",
       "    }\n",
       "\n",
       "    .dataframe thead th {\n",
       "        text-align: right;\n",
       "    }\n",
       "</style>\n",
       "<table border=\"1\" class=\"dataframe\">\n",
       "  <thead>\n",
       "    <tr style=\"text-align: right;\">\n",
       "      <th></th>\n",
       "      <th>a</th>\n",
       "      <th>b</th>\n",
       "      <th>c</th>\n",
       "      <th>d</th>\n",
       "      <th>e</th>\n",
       "    </tr>\n",
       "  </thead>\n",
       "  <tbody>\n",
       "    <tr>\n",
       "      <th>0</th>\n",
       "      <td>[(but rather of a dead daylight. Over the whol...</td>\n",
       "      <td>[(would be wasting our breath.\" \"I'll be judge...</td>\n",
       "      <td>[(America good or bad, Not to build for that w...</td>\n",
       "      <td>[(behold At my right hand; your head I him app...</td>\n",
       "      <td>[(a crab without looking first,--which you nev...</td>\n",
       "    </tr>\n",
       "    <tr>\n",
       "      <th>1</th>\n",
       "      <td>[(a matter of fact, everything is ready for me...</td>\n",
       "      <td>[(come here.' Alice didn't think that proved i...</td>\n",
       "      <td>[(of approaching cars, The slow march play'd a...</td>\n",
       "      <td>[(sentence pass On his transgression,--death d...</td>\n",
       "      <td>[(Tiger sprang, but the Brahmin spoke very qui...</td>\n",
       "    </tr>\n",
       "    <tr>\n",
       "      <th>2</th>\n",
       "      <td>[(\"What do you mean?\" asked Syme. \"Does he liv...</td>\n",
       "      <td>[(always get into her eyes--and still as she l...</td>\n",
       "      <td>[(and crowding to help them, My flesh and bloo...</td>\n",
       "      <td>[(He shall ascend The throne hereditary, and b...</td>\n",
       "      <td>[(took hold of the table with the Little Fir T...</td>\n",
       "    </tr>\n",
       "    <tr>\n",
       "      <th>3</th>\n",
       "      <td>[(book of sonnets that a crime will be committ...</td>\n",
       "      <td>[(got back to my right size: the next thing is...</td>\n",
       "      <td>[(your soft opera-music changed, and the drum ...</td>\n",
       "      <td>[(vain aims, inordinate desires, Blown up with...</td>\n",
       "      <td>[(garden.\" That very evening, Margery's father...</td>\n",
       "    </tr>\n",
       "    <tr>\n",
       "      <th>4</th>\n",
       "      <td>[(opened absently only to find it inscribed wi...</td>\n",
       "      <td>[(a pie--' [later editions continued as follow...</td>\n",
       "      <td>[(thee O soul, All senses, shows and objects, ...</td>\n",
       "      <td>[(lower world; to this obscure And wild? how s...</td>\n",
       "      <td>[(other end round my cow, and when I am ready ...</td>\n",
       "    </tr>\n",
       "    <tr>\n",
       "      <th>...</th>\n",
       "      <td>...</td>\n",
       "      <td>...</td>\n",
       "      <td>...</td>\n",
       "      <td>...</td>\n",
       "      <td>...</td>\n",
       "    </tr>\n",
       "    <tr>\n",
       "      <th>195</th>\n",
       "      <td>[(at the top of a long table. \"You die for man...</td>\n",
       "      <td>[(do,' said Alice to herself, as she wandered ...</td>\n",
       "      <td>[(sends her eldest son to you. The sign is rev...</td>\n",
       "      <td>[(Tore through my entrails, that, with fear an...</td>\n",
       "      <td>[(never see it again.\" The little Field Mouse ...</td>\n",
       "    </tr>\n",
       "    <tr>\n",
       "      <th>196</th>\n",
       "      <td>[(very shape was wicked. So these figures seem...</td>\n",
       "      <td>[(You see the earth takes twenty-four hours to...</td>\n",
       "      <td>[(grew there uttering joyous of dark green, An...</td>\n",
       "      <td>[(to grow All trees of noblest kind for sight,...</td>\n",
       "      <td>[(let his keepers lead him away to the royal m...</td>\n",
       "    </tr>\n",
       "    <tr>\n",
       "      <th>197</th>\n",
       "      <td>[(that particular wax lady. He could only supp...</td>\n",
       "      <td>[(Alice looked round, eager to see the Queen. ...</td>\n",
       "      <td>[(steady concentration of America, inland, upw...</td>\n",
       "      <td>[(call in aid, which makes a bloody fray; With...</td>\n",
       "      <td>[(he called the three sons to him and said, \"M...</td>\n",
       "    </tr>\n",
       "    <tr>\n",
       "      <th>198</th>\n",
       "      <td>[(\"My red hair, like red flames, shall burn up...</td>\n",
       "      <td>[(called out 'The race is over!' and they all ...</td>\n",
       "      <td>[(pines and cypresses growing out of the white...</td>\n",
       "      <td>[(Algiers, and Tremisen; On Europe thence, and...</td>\n",
       "      <td>[(ornamented with gold and jewels; and it had ...</td>\n",
       "    </tr>\n",
       "    <tr>\n",
       "      <th>199</th>\n",
       "      <td>[(in which forms can be faintly traced; it was...</td>\n",
       "      <td>[(cried the Gryphon, and, taking Alice by the ...</td>\n",
       "      <td>[(dissolution. The hopples fall from your ankl...</td>\n",
       "      <td>[(With wide Cerberean mouths full loud, and ru...</td>\n",
       "      <td>[(grand feast there. The great hall was filled...</td>\n",
       "    </tr>\n",
       "  </tbody>\n",
       "</table>\n",
       "<p>200 rows × 5 columns</p>\n",
       "</div>"
      ],
      "text/plain": [
       "                                                     a  \\\n",
       "0    [(but rather of a dead daylight. Over the whol...   \n",
       "1    [(a matter of fact, everything is ready for me...   \n",
       "2    [(\"What do you mean?\" asked Syme. \"Does he liv...   \n",
       "3    [(book of sonnets that a crime will be committ...   \n",
       "4    [(opened absently only to find it inscribed wi...   \n",
       "..                                                 ...   \n",
       "195  [(at the top of a long table. \"You die for man...   \n",
       "196  [(very shape was wicked. So these figures seem...   \n",
       "197  [(that particular wax lady. He could only supp...   \n",
       "198  [(\"My red hair, like red flames, shall burn up...   \n",
       "199  [(in which forms can be faintly traced; it was...   \n",
       "\n",
       "                                                     b  \\\n",
       "0    [(would be wasting our breath.\" \"I'll be judge...   \n",
       "1    [(come here.' Alice didn't think that proved i...   \n",
       "2    [(always get into her eyes--and still as she l...   \n",
       "3    [(got back to my right size: the next thing is...   \n",
       "4    [(a pie--' [later editions continued as follow...   \n",
       "..                                                 ...   \n",
       "195  [(do,' said Alice to herself, as she wandered ...   \n",
       "196  [(You see the earth takes twenty-four hours to...   \n",
       "197  [(Alice looked round, eager to see the Queen. ...   \n",
       "198  [(called out 'The race is over!' and they all ...   \n",
       "199  [(cried the Gryphon, and, taking Alice by the ...   \n",
       "\n",
       "                                                     c  \\\n",
       "0    [(America good or bad, Not to build for that w...   \n",
       "1    [(of approaching cars, The slow march play'd a...   \n",
       "2    [(and crowding to help them, My flesh and bloo...   \n",
       "3    [(your soft opera-music changed, and the drum ...   \n",
       "4    [(thee O soul, All senses, shows and objects, ...   \n",
       "..                                                 ...   \n",
       "195  [(sends her eldest son to you. The sign is rev...   \n",
       "196  [(grew there uttering joyous of dark green, An...   \n",
       "197  [(steady concentration of America, inland, upw...   \n",
       "198  [(pines and cypresses growing out of the white...   \n",
       "199  [(dissolution. The hopples fall from your ankl...   \n",
       "\n",
       "                                                     d  \\\n",
       "0    [(behold At my right hand; your head I him app...   \n",
       "1    [(sentence pass On his transgression,--death d...   \n",
       "2    [(He shall ascend The throne hereditary, and b...   \n",
       "3    [(vain aims, inordinate desires, Blown up with...   \n",
       "4    [(lower world; to this obscure And wild? how s...   \n",
       "..                                                 ...   \n",
       "195  [(Tore through my entrails, that, with fear an...   \n",
       "196  [(to grow All trees of noblest kind for sight,...   \n",
       "197  [(call in aid, which makes a bloody fray; With...   \n",
       "198  [(Algiers, and Tremisen; On Europe thence, and...   \n",
       "199  [(With wide Cerberean mouths full loud, and ru...   \n",
       "\n",
       "                                                     e  \n",
       "0    [(a crab without looking first,--which you nev...  \n",
       "1    [(Tiger sprang, but the Brahmin spoke very qui...  \n",
       "2    [(took hold of the table with the Little Fir T...  \n",
       "3    [(garden.\" That very evening, Margery's father...  \n",
       "4    [(other end round my cow, and when I am ready ...  \n",
       "..                                                 ...  \n",
       "195  [(never see it again.\" The little Field Mouse ...  \n",
       "196  [(let his keepers lead him away to the royal m...  \n",
       "197  [(he called the three sons to him and said, \"M...  \n",
       "198  [(ornamented with gold and jewels; and it had ...  \n",
       "199  [(grand feast there. The great hall was filled...  \n",
       "\n",
       "[200 rows x 5 columns]"
      ]
     },
     "execution_count": 150,
     "metadata": {},
     "output_type": "execute_result"
    }
   ],
   "source": [
    "df.rename(columns={0: 'a', 1: 'b',2:'c',3:'d',4:'e'})"
   ]
  },
  {
   "cell_type": "code",
   "execution_count": 153,
   "metadata": {},
   "outputs": [],
   "source": [
    "df.columns = [\"A\", \"B\", 'C',\"D\", \"E\"]"
   ]
  },
  {
   "cell_type": "code",
   "execution_count": 154,
   "metadata": {},
   "outputs": [
    {
     "data": {
      "text/html": [
       "<div>\n",
       "<style scoped>\n",
       "    .dataframe tbody tr th:only-of-type {\n",
       "        vertical-align: middle;\n",
       "    }\n",
       "\n",
       "    .dataframe tbody tr th {\n",
       "        vertical-align: top;\n",
       "    }\n",
       "\n",
       "    .dataframe thead th {\n",
       "        text-align: right;\n",
       "    }\n",
       "</style>\n",
       "<table border=\"1\" class=\"dataframe\">\n",
       "  <thead>\n",
       "    <tr style=\"text-align: right;\">\n",
       "      <th></th>\n",
       "      <th>A</th>\n",
       "      <th>B</th>\n",
       "      <th>C</th>\n",
       "      <th>D</th>\n",
       "      <th>E</th>\n",
       "    </tr>\n",
       "  </thead>\n",
       "  <tbody>\n",
       "    <tr>\n",
       "      <th>0</th>\n",
       "      <td>[(but rather of a dead daylight. Over the whol...</td>\n",
       "      <td>[(would be wasting our breath.\" \"I'll be judge...</td>\n",
       "      <td>[(America good or bad, Not to build for that w...</td>\n",
       "      <td>[(behold At my right hand; your head I him app...</td>\n",
       "      <td>[(a crab without looking first,--which you nev...</td>\n",
       "    </tr>\n",
       "    <tr>\n",
       "      <th>1</th>\n",
       "      <td>[(a matter of fact, everything is ready for me...</td>\n",
       "      <td>[(come here.' Alice didn't think that proved i...</td>\n",
       "      <td>[(of approaching cars, The slow march play'd a...</td>\n",
       "      <td>[(sentence pass On his transgression,--death d...</td>\n",
       "      <td>[(Tiger sprang, but the Brahmin spoke very qui...</td>\n",
       "    </tr>\n",
       "    <tr>\n",
       "      <th>2</th>\n",
       "      <td>[(\"What do you mean?\" asked Syme. \"Does he liv...</td>\n",
       "      <td>[(always get into her eyes--and still as she l...</td>\n",
       "      <td>[(and crowding to help them, My flesh and bloo...</td>\n",
       "      <td>[(He shall ascend The throne hereditary, and b...</td>\n",
       "      <td>[(took hold of the table with the Little Fir T...</td>\n",
       "    </tr>\n",
       "    <tr>\n",
       "      <th>3</th>\n",
       "      <td>[(book of sonnets that a crime will be committ...</td>\n",
       "      <td>[(got back to my right size: the next thing is...</td>\n",
       "      <td>[(your soft opera-music changed, and the drum ...</td>\n",
       "      <td>[(vain aims, inordinate desires, Blown up with...</td>\n",
       "      <td>[(garden.\" That very evening, Margery's father...</td>\n",
       "    </tr>\n",
       "    <tr>\n",
       "      <th>4</th>\n",
       "      <td>[(opened absently only to find it inscribed wi...</td>\n",
       "      <td>[(a pie--' [later editions continued as follow...</td>\n",
       "      <td>[(thee O soul, All senses, shows and objects, ...</td>\n",
       "      <td>[(lower world; to this obscure And wild? how s...</td>\n",
       "      <td>[(other end round my cow, and when I am ready ...</td>\n",
       "    </tr>\n",
       "    <tr>\n",
       "      <th>...</th>\n",
       "      <td>...</td>\n",
       "      <td>...</td>\n",
       "      <td>...</td>\n",
       "      <td>...</td>\n",
       "      <td>...</td>\n",
       "    </tr>\n",
       "    <tr>\n",
       "      <th>195</th>\n",
       "      <td>[(at the top of a long table. \"You die for man...</td>\n",
       "      <td>[(do,' said Alice to herself, as she wandered ...</td>\n",
       "      <td>[(sends her eldest son to you. The sign is rev...</td>\n",
       "      <td>[(Tore through my entrails, that, with fear an...</td>\n",
       "      <td>[(never see it again.\" The little Field Mouse ...</td>\n",
       "    </tr>\n",
       "    <tr>\n",
       "      <th>196</th>\n",
       "      <td>[(very shape was wicked. So these figures seem...</td>\n",
       "      <td>[(You see the earth takes twenty-four hours to...</td>\n",
       "      <td>[(grew there uttering joyous of dark green, An...</td>\n",
       "      <td>[(to grow All trees of noblest kind for sight,...</td>\n",
       "      <td>[(let his keepers lead him away to the royal m...</td>\n",
       "    </tr>\n",
       "    <tr>\n",
       "      <th>197</th>\n",
       "      <td>[(that particular wax lady. He could only supp...</td>\n",
       "      <td>[(Alice looked round, eager to see the Queen. ...</td>\n",
       "      <td>[(steady concentration of America, inland, upw...</td>\n",
       "      <td>[(call in aid, which makes a bloody fray; With...</td>\n",
       "      <td>[(he called the three sons to him and said, \"M...</td>\n",
       "    </tr>\n",
       "    <tr>\n",
       "      <th>198</th>\n",
       "      <td>[(\"My red hair, like red flames, shall burn up...</td>\n",
       "      <td>[(called out 'The race is over!' and they all ...</td>\n",
       "      <td>[(pines and cypresses growing out of the white...</td>\n",
       "      <td>[(Algiers, and Tremisen; On Europe thence, and...</td>\n",
       "      <td>[(ornamented with gold and jewels; and it had ...</td>\n",
       "    </tr>\n",
       "    <tr>\n",
       "      <th>199</th>\n",
       "      <td>[(in which forms can be faintly traced; it was...</td>\n",
       "      <td>[(cried the Gryphon, and, taking Alice by the ...</td>\n",
       "      <td>[(dissolution. The hopples fall from your ankl...</td>\n",
       "      <td>[(With wide Cerberean mouths full loud, and ru...</td>\n",
       "      <td>[(grand feast there. The great hall was filled...</td>\n",
       "    </tr>\n",
       "  </tbody>\n",
       "</table>\n",
       "<p>200 rows × 5 columns</p>\n",
       "</div>"
      ],
      "text/plain": [
       "                                                     A  \\\n",
       "0    [(but rather of a dead daylight. Over the whol...   \n",
       "1    [(a matter of fact, everything is ready for me...   \n",
       "2    [(\"What do you mean?\" asked Syme. \"Does he liv...   \n",
       "3    [(book of sonnets that a crime will be committ...   \n",
       "4    [(opened absently only to find it inscribed wi...   \n",
       "..                                                 ...   \n",
       "195  [(at the top of a long table. \"You die for man...   \n",
       "196  [(very shape was wicked. So these figures seem...   \n",
       "197  [(that particular wax lady. He could only supp...   \n",
       "198  [(\"My red hair, like red flames, shall burn up...   \n",
       "199  [(in which forms can be faintly traced; it was...   \n",
       "\n",
       "                                                     B  \\\n",
       "0    [(would be wasting our breath.\" \"I'll be judge...   \n",
       "1    [(come here.' Alice didn't think that proved i...   \n",
       "2    [(always get into her eyes--and still as she l...   \n",
       "3    [(got back to my right size: the next thing is...   \n",
       "4    [(a pie--' [later editions continued as follow...   \n",
       "..                                                 ...   \n",
       "195  [(do,' said Alice to herself, as she wandered ...   \n",
       "196  [(You see the earth takes twenty-four hours to...   \n",
       "197  [(Alice looked round, eager to see the Queen. ...   \n",
       "198  [(called out 'The race is over!' and they all ...   \n",
       "199  [(cried the Gryphon, and, taking Alice by the ...   \n",
       "\n",
       "                                                     C  \\\n",
       "0    [(America good or bad, Not to build for that w...   \n",
       "1    [(of approaching cars, The slow march play'd a...   \n",
       "2    [(and crowding to help them, My flesh and bloo...   \n",
       "3    [(your soft opera-music changed, and the drum ...   \n",
       "4    [(thee O soul, All senses, shows and objects, ...   \n",
       "..                                                 ...   \n",
       "195  [(sends her eldest son to you. The sign is rev...   \n",
       "196  [(grew there uttering joyous of dark green, An...   \n",
       "197  [(steady concentration of America, inland, upw...   \n",
       "198  [(pines and cypresses growing out of the white...   \n",
       "199  [(dissolution. The hopples fall from your ankl...   \n",
       "\n",
       "                                                     D  \\\n",
       "0    [(behold At my right hand; your head I him app...   \n",
       "1    [(sentence pass On his transgression,--death d...   \n",
       "2    [(He shall ascend The throne hereditary, and b...   \n",
       "3    [(vain aims, inordinate desires, Blown up with...   \n",
       "4    [(lower world; to this obscure And wild? how s...   \n",
       "..                                                 ...   \n",
       "195  [(Tore through my entrails, that, with fear an...   \n",
       "196  [(to grow All trees of noblest kind for sight,...   \n",
       "197  [(call in aid, which makes a bloody fray; With...   \n",
       "198  [(Algiers, and Tremisen; On Europe thence, and...   \n",
       "199  [(With wide Cerberean mouths full loud, and ru...   \n",
       "\n",
       "                                                     E  \n",
       "0    [(a crab without looking first,--which you nev...  \n",
       "1    [(Tiger sprang, but the Brahmin spoke very qui...  \n",
       "2    [(took hold of the table with the Little Fir T...  \n",
       "3    [(garden.\" That very evening, Margery's father...  \n",
       "4    [(other end round my cow, and when I am ready ...  \n",
       "..                                                 ...  \n",
       "195  [(never see it again.\" The little Field Mouse ...  \n",
       "196  [(let his keepers lead him away to the royal m...  \n",
       "197  [(he called the three sons to him and said, \"M...  \n",
       "198  [(ornamented with gold and jewels; and it had ...  \n",
       "199  [(grand feast there. The great hall was filled...  \n",
       "\n",
       "[200 rows x 5 columns]"
      ]
     },
     "execution_count": 154,
     "metadata": {},
     "output_type": "execute_result"
    }
   ],
   "source": [
    "df"
   ]
  },
  {
   "cell_type": "code",
   "execution_count": 139,
   "metadata": {},
   "outputs": [],
   "source": [
    "\n"
   ]
  },
  {
   "cell_type": "code",
   "execution_count": null,
   "metadata": {},
   "outputs": [],
   "source": []
  },
  {
   "cell_type": "code",
   "execution_count": null,
   "metadata": {},
   "outputs": [],
   "source": []
  },
  {
   "cell_type": "code",
   "execution_count": null,
   "metadata": {},
   "outputs": [],
   "source": []
  }
 ],
 "metadata": {
  "kernelspec": {
   "display_name": "Python 3",
   "language": "python",
   "name": "python3"
  },
  "language_info": {
   "codemirror_mode": {
    "name": "ipython",
    "version": 3
   },
   "file_extension": ".py",
   "mimetype": "text/x-python",
   "name": "python",
   "nbconvert_exporter": "python",
   "pygments_lexer": "ipython3",
   "version": "3.8.5"
  }
 },
 "nbformat": 4,
 "nbformat_minor": 4
}
